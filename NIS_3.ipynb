{
  "nbformat": 4,
  "nbformat_minor": 0,
  "metadata": {
    "colab": {
      "provenance": []
    },
    "kernelspec": {
      "name": "python3",
      "display_name": "Python 3"
    },
    "language_info": {
      "name": "python"
    }
  },
  "cells": [
    {
      "cell_type": "markdown",
      "source": [
        "# Imports"
      ],
      "metadata": {
        "id": "rWoOCq9QBIvN"
      }
    },
    {
      "cell_type": "code",
      "source": [
        "import tensorflow as tf\n",
        "import pandas as pd\n",
        "import random\n",
        "import numpy as np"
      ],
      "metadata": {
        "id": "Zgp2wxSH9xnk"
      },
      "execution_count": 233,
      "outputs": []
    },
    {
      "cell_type": "code",
      "source": [
        "np.random.seed(42)\n",
        "random.seed(42)"
      ],
      "metadata": {
        "id": "1MY28GhE5Dr8"
      },
      "execution_count": 234,
      "outputs": []
    },
    {
      "cell_type": "markdown",
      "source": [
        "# Functions"
      ],
      "metadata": {
        "id": "OvWkpxh1BBPc"
      }
    },
    {
      "cell_type": "code",
      "source": [
        "def perfMeasure(y_actual, y_hat):\n",
        "    TP = 0\n",
        "    FP = 0\n",
        "    TN = 0\n",
        "    FN = 0\n",
        "\n",
        "    for i in range(len(y_hat)): \n",
        "        if y_actual[i]==y_hat[i]==1:\n",
        "           TP += 1\n",
        "        if y_hat[i]==1 and y_actual[i]!=y_hat[i]:\n",
        "           FP += 1\n",
        "        if y_actual[i]==y_hat[i]==0:\n",
        "           TN += 1\n",
        "        if y_hat[i]==0 and y_actual[i]!=y_hat[i]:\n",
        "           FN += 1\n",
        "\n",
        "    return(TP, FP, TN, FN)"
      ],
      "metadata": {
        "id": "u3EaQMkWBh1z"
      },
      "execution_count": 342,
      "outputs": []
    },
    {
      "cell_type": "code",
      "source": [
        "def convergenceChange(y_actual, y_hat, omega):\n",
        "    TP, FP, TN, FN = perfMeasure(y_actual, y_hat)\n",
        "    \n",
        "    if TP + TN + FP + FN == 0:\n",
        "      return 0, 0, 0, False\n",
        "\n",
        "    if FP + TP == 0:\n",
        "      return 0, 0, 0, False\n",
        "\n",
        "    if TP + FN == 0:\n",
        "      return 0, 0, 0, False\n",
        "\n",
        "    Acc = (TP + TN)/(TP + TN + FP + FN)\n",
        "    PPV = TP/(FP + TP)\n",
        "    TPR = TP/(TP + FN)\n",
        "    \n",
        "    if (Acc > omega and PPV > omega and TPR > omega):\n",
        "      return Acc, PPV, TPR, True\n",
        "    return 0, 0, 0, False"
      ],
      "metadata": {
        "id": "k_Qcu_95BD5Y"
      },
      "execution_count": 343,
      "outputs": []
    },
    {
      "cell_type": "markdown",
      "source": [
        "# Data and preprocessing"
      ],
      "metadata": {
        "id": "kme79IpwvRyF"
      }
    },
    {
      "cell_type": "code",
      "source": [
        "df = pd.read_csv(\"data_NIS_3.csv\")"
      ],
      "metadata": {
        "id": "46bo64GPvUv5"
      },
      "execution_count": 237,
      "outputs": []
    },
    {
      "cell_type": "code",
      "source": [
        "df.drop(['Serial', 'Histo', 'G', 'pT', 'pN', 'RS_3', 'RStailor_3', 'Bcl_cod', 'ER%Li', 'PGR%Li', 'PGR%LiCod', 'PGRdxCod', 'Ki67%LiCod', 'Her2Score', 'Bio-profiles IHC', 'Diam', 'Her2dx'], axis = 1, inplace = True)"
      ],
      "metadata": {
        "id": "aX4_jD5z_CVW"
      },
      "execution_count": 238,
      "outputs": []
    },
    {
      "cell_type": "code",
      "source": [
        "tumor_size = []\n",
        "for i in range(156):\n",
        "  tumor_size.append(random.uniform(0.1, 4.2))\n",
        "df['tumor_size'] = pd.DataFrame(tumor_size)"
      ],
      "metadata": {
        "id": "zU_0ZbFs4ltV"
      },
      "execution_count": 239,
      "outputs": []
    },
    {
      "cell_type": "code",
      "source": [
        "ganglionic = []\n",
        "for i in range(156):\n",
        "  num = random.uniform(0, 1)\n",
        "  if num >= 0.4:\n",
        "    num = 1\n",
        "  else: \n",
        "    num = 0\n",
        "  ganglionic.append(num)\n",
        "df['ganglionic'] = pd.DataFrame(ganglionic)"
      ],
      "metadata": {
        "id": "G7xihepZA1Kr"
      },
      "execution_count": 240,
      "outputs": []
    },
    {
      "cell_type": "code",
      "source": [
        "nuclei = []\n",
        "for i in range(156):\n",
        "  num = random.uniform(0, 3)\n",
        "  if num < 0.3:\n",
        "    num = 1\n",
        "  elif num >= 0.3 and num < 1.6: \n",
        "    num = 2\n",
        "  elif num >= 1.6:\n",
        "    num = 3\n",
        "  nuclei.append(num)\n",
        "df['nuclei'] = pd.DataFrame(nuclei)"
      ],
      "metadata": {
        "id": "2DjDNX9-EoWq"
      },
      "execution_count": 241,
      "outputs": []
    },
    {
      "cell_type": "code",
      "source": [
        "glande = []\n",
        "for i in range(156):\n",
        "  num = random.uniform(0, 3)\n",
        "  if num < 0.3:\n",
        "    num = 1\n",
        "  elif num >= 0.3 and num < 1.7: \n",
        "    num = 2\n",
        "  elif num >= 1.7:\n",
        "    num = 3\n",
        "  glande.append(num)\n",
        "df['glande'] = pd.DataFrame(glande)"
      ],
      "metadata": {
        "id": "c-2WVMKaFYKd"
      },
      "execution_count": 242,
      "outputs": []
    },
    {
      "cell_type": "code",
      "source": [
        "mitosies = []\n",
        "for i in range(156):\n",
        "  num = random.uniform(0, 3)\n",
        "  if num < 0.7:\n",
        "    num = 1\n",
        "  elif num >= 0.7 and num < 2.3: \n",
        "    num = 2\n",
        "  elif num >= 2.3:\n",
        "    num = 3\n",
        "  mitosies.append(num)\n",
        "df['mitosies'] = pd.DataFrame(mitosies)"
      ],
      "metadata": {
        "id": "6cqgx6xgF4TV"
      },
      "execution_count": 243,
      "outputs": []
    },
    {
      "cell_type": "code",
      "source": [
        "sbr = []\n",
        "for i in range(156):\n",
        "  num = random.uniform(0, 3)\n",
        "  if num < 0.5:\n",
        "    num = 1\n",
        "  elif num >= 0.5 and num < 2: \n",
        "    num = 2\n",
        "  elif num >= 2:\n",
        "    num = 3\n",
        "  sbr.append(num)\n",
        "df['SBR'] = pd.DataFrame(sbr)"
      ],
      "metadata": {
        "id": "ii0bydnAG9VM"
      },
      "execution_count": 244,
      "outputs": []
    },
    {
      "cell_type": "code",
      "source": [
        "print(\"Nuclei grade\")\n",
        "print(df['nuclei'].value_counts())\n",
        "print()\n",
        "print(\"SBR grade\")\n",
        "print(df['SBR'].value_counts())\n",
        "print()\n",
        "print(\"Glande grade\")\n",
        "print(df['glande'].value_counts())\n",
        "print()\n",
        "print(\"Mitosies grade\")\n",
        "print(df['mitosies'].value_counts())\n",
        "print()\n",
        "print(\"ganglonic status\")\n",
        "print(df['ganglionic'].value_counts())"
      ],
      "metadata": {
        "colab": {
          "base_uri": "https://localhost:8080/"
        },
        "id": "kO2J4ES8IgyL",
        "outputId": "16e57505-b0c4-4f0c-e019-9c9489200ad6"
      },
      "execution_count": 245,
      "outputs": [
        {
          "output_type": "stream",
          "name": "stdout",
          "text": [
            "Nuclei grade\n",
            "3    76\n",
            "2    69\n",
            "1    11\n",
            "Name: nuclei, dtype: int64\n",
            "\n",
            "SBR grade\n",
            "2    84\n",
            "3    56\n",
            "1    16\n",
            "Name: SBR, dtype: int64\n",
            "\n",
            "Glande grade\n",
            "2    72\n",
            "3    68\n",
            "1    16\n",
            "Name: glande, dtype: int64\n",
            "\n",
            "Mitosies grade\n",
            "2    88\n",
            "1    37\n",
            "3    31\n",
            "Name: mitosies, dtype: int64\n",
            "\n",
            "ganglonic status\n",
            "1    95\n",
            "0    61\n",
            "Name: ganglionic, dtype: int64\n"
          ]
        }
      ]
    },
    {
      "cell_type": "code",
      "source": [
        "print(\"Tumor size (cm)\")\n",
        "print(\"< 1  - \", len(df['tumor_size'][df['tumor_size'] < 1]))\n",
        "print(\"1.1 - 2.0  - \", len(df['tumor_size'][(df['tumor_size'] > 1) & (df['tumor_size'] < 2)]))\n",
        "print(\"2.1 - 4.0  - \", len(df['tumor_size'][(df['tumor_size'] > 2) & (df['tumor_size'] < 4)]))\n",
        "print(\"> 4.0  - \", len(df['tumor_size'][df['tumor_size'] > 4]))\n",
        "print()\n",
        "print(\"Estrogen Receptor (RE)\")\n",
        "print(\"< 10  - \", len(df['ERdx'][df['ERdx'] < 10]))\n",
        "print(\"10 - 20  - \", len(df['ERdx'][(df['ERdx'] > 10) & (df['ERdx'] < 20)]))\n",
        "print(\"> 20  - \", len(df['ERdx'][df['ERdx'] > 20]))\n",
        "print()\n",
        "print(\"Progestrone Receptor (PR)\")\n",
        "print(\"< 5  - \", len(df['PGRdx'][df['PGRdx'] < 5]))\n",
        "print(\"5 - 10  - \", len(df['PGRdx'][(df['PGRdx'] > 5) & (df['PGRdx'] < 10)]))\n",
        "print(\"> 10  - \", len(df['PGRdx'][df['PGRdx'] > 10]))\n",
        "print()\n",
        "print(\"Proliferation Rate (Ki-67)\")\n",
        "print(\"< 10  - \", len(df['Ki67%Li'][df['Ki67%Li'] < 10]))\n",
        "print(\"10 - 20  - \", len(df['Ki67%Li'][(df['Ki67%Li'] > 10) & (df['Ki67%Li'] < 20)]))\n",
        "print(\"> 20  - \", len(df['Ki67%Li'][df['Ki67%Li'] > 20]))\n",
        "print()\n",
        "print(\"Age\")\n",
        "print(\"< 40 years  - \", len(df['Age'][df['Age'] < 40]))\n",
        "print(\"40 - 49 years  - \", len(df['Age'][(df['Age'] > 40) & (df['Age'] < 49)]))\n",
        "print(\"50 - 59 years  - \", len(df['Age'][(df['Age'] > 50) & (df['Age'] < 59)]))\n",
        "print(\"> 59 years  - \", len(df['Age'][df['Age'] > 59]))"
      ],
      "metadata": {
        "colab": {
          "base_uri": "https://localhost:8080/"
        },
        "id": "aUaNEGLoMF8E",
        "outputId": "0bdce690-5fc5-4fcb-c85c-ab372a80ab6a"
      },
      "execution_count": 246,
      "outputs": [
        {
          "output_type": "stream",
          "name": "stdout",
          "text": [
            "Tumor size (cm)\n",
            "< 1  -  36\n",
            "1.1 - 2.0  -  39\n",
            "2.1 - 4.0  -  73\n",
            "> 4.0  -  8\n",
            "\n",
            "Estrogen Receptor (RE)\n",
            "< 10  -  59\n",
            "10 - 20  -  96\n",
            "> 20  -  0\n",
            "\n",
            "Progestrone Receptor (PR)\n",
            "< 5  -  15\n",
            "5 - 10  -  132\n",
            "> 10  -  1\n",
            "\n",
            "Proliferation Rate (Ki-67)\n",
            "< 10  -  26\n",
            "10 - 20  -  58\n",
            "> 20  -  65\n",
            "\n",
            "Age\n",
            "< 40 years  -  5\n",
            "40 - 49 years  -  21\n",
            "50 - 59 years  -  31\n",
            "> 59 years  -  84\n"
          ]
        }
      ]
    },
    {
      "cell_type": "code",
      "source": [
        "print(\"RS\")\n",
        "print(\"< 15  - \", len(df['RS'][df['RS'] < 15]))\n",
        "print(\"15 - 25  - \", len(df['RS'][(df['RS'] > 15) & (df['RS'] < 25)]))\n",
        "print(\"> 25  - \", len(df['RS'][df['RS'] > 25]))"
      ],
      "metadata": {
        "colab": {
          "base_uri": "https://localhost:8080/"
        },
        "id": "8IlCArbikHaa",
        "outputId": "e9556f9b-06f1-4865-f925-ff3ffe3401b2"
      },
      "execution_count": 247,
      "outputs": [
        {
          "output_type": "stream",
          "name": "stdout",
          "text": [
            "RS\n",
            "< 15  -  88\n",
            "15 - 25  -  41\n",
            "> 25  -  14\n"
          ]
        }
      ]
    },
    {
      "cell_type": "code",
      "source": [
        "df['target_1'] = np.where(df['RS'] < 15, 1, 0)\n",
        "df['target_2'] = np.where((df['RS'] > 15) & (df['RS'] < 25), 1, 0)\n",
        "df['target_3'] = np.where(df['RS'] > 25, 1, 0)"
      ],
      "metadata": {
        "id": "hPCGDIGImN16"
      },
      "execution_count": 248,
      "outputs": []
    },
    {
      "cell_type": "code",
      "source": [
        "df"
      ],
      "metadata": {
        "colab": {
          "base_uri": "https://localhost:8080/",
          "height": 424
        },
        "id": "I-lTvWVNOyOs",
        "outputId": "f92bbed7-bb6c-4f3e-b6c9-624955b82058"
      },
      "execution_count": 249,
      "outputs": [
        {
          "output_type": "execute_result",
          "data": {
            "text/plain": [
              "     Age  RS  ERdx  PGRdx  Ki67%Li  tumor_size  ganglionic  nuclei  glande  \\\n",
              "0     71  44  12.3    3.6       27    2.721650           0       2       3   \n",
              "1     74   9  10.8    7.8       17    0.202544           1       2       1   \n",
              "2     74  10   9.8    8.1       17    1.227620           0       3       2   \n",
              "3     65   5  12.5    7.7       19    1.015164           0       3       2   \n",
              "4     75  25  10.3    4.5       15    3.119532           0       2       2   \n",
              "..   ...  ..   ...    ...      ...         ...         ...     ...     ...   \n",
              "151   79   4  10.8    9.1       10    2.764500           1       2       2   \n",
              "152   63  14  10.3    8.1       16    1.896210           1       3       2   \n",
              "153   41  17   8.3    8.0       26    2.222061           1       2       2   \n",
              "154   74  21   9.9    5.0       12    0.596117           1       2       2   \n",
              "155   63  21  11.5   10.0       39    1.021259           0       3       2   \n",
              "\n",
              "     mitosies  SBR  target_1  target_2  target_3  \n",
              "0           2    3         0         0         1  \n",
              "1           2    2         1         0         0  \n",
              "2           1    3         1         0         0  \n",
              "3           1    2         1         0         0  \n",
              "4           2    2         0         0         0  \n",
              "..        ...  ...       ...       ...       ...  \n",
              "151         1    3         1         0         0  \n",
              "152         3    2         1         0         0  \n",
              "153         3    1         0         1         0  \n",
              "154         2    2         0         1         0  \n",
              "155         1    3         0         1         0  \n",
              "\n",
              "[156 rows x 14 columns]"
            ],
            "text/html": [
              "\n",
              "  <div id=\"df-fee932bb-874a-4a93-b8b0-24af4af89831\">\n",
              "    <div class=\"colab-df-container\">\n",
              "      <div>\n",
              "<style scoped>\n",
              "    .dataframe tbody tr th:only-of-type {\n",
              "        vertical-align: middle;\n",
              "    }\n",
              "\n",
              "    .dataframe tbody tr th {\n",
              "        vertical-align: top;\n",
              "    }\n",
              "\n",
              "    .dataframe thead th {\n",
              "        text-align: right;\n",
              "    }\n",
              "</style>\n",
              "<table border=\"1\" class=\"dataframe\">\n",
              "  <thead>\n",
              "    <tr style=\"text-align: right;\">\n",
              "      <th></th>\n",
              "      <th>Age</th>\n",
              "      <th>RS</th>\n",
              "      <th>ERdx</th>\n",
              "      <th>PGRdx</th>\n",
              "      <th>Ki67%Li</th>\n",
              "      <th>tumor_size</th>\n",
              "      <th>ganglionic</th>\n",
              "      <th>nuclei</th>\n",
              "      <th>glande</th>\n",
              "      <th>mitosies</th>\n",
              "      <th>SBR</th>\n",
              "      <th>target_1</th>\n",
              "      <th>target_2</th>\n",
              "      <th>target_3</th>\n",
              "    </tr>\n",
              "  </thead>\n",
              "  <tbody>\n",
              "    <tr>\n",
              "      <th>0</th>\n",
              "      <td>71</td>\n",
              "      <td>44</td>\n",
              "      <td>12.3</td>\n",
              "      <td>3.6</td>\n",
              "      <td>27</td>\n",
              "      <td>2.721650</td>\n",
              "      <td>0</td>\n",
              "      <td>2</td>\n",
              "      <td>3</td>\n",
              "      <td>2</td>\n",
              "      <td>3</td>\n",
              "      <td>0</td>\n",
              "      <td>0</td>\n",
              "      <td>1</td>\n",
              "    </tr>\n",
              "    <tr>\n",
              "      <th>1</th>\n",
              "      <td>74</td>\n",
              "      <td>9</td>\n",
              "      <td>10.8</td>\n",
              "      <td>7.8</td>\n",
              "      <td>17</td>\n",
              "      <td>0.202544</td>\n",
              "      <td>1</td>\n",
              "      <td>2</td>\n",
              "      <td>1</td>\n",
              "      <td>2</td>\n",
              "      <td>2</td>\n",
              "      <td>1</td>\n",
              "      <td>0</td>\n",
              "      <td>0</td>\n",
              "    </tr>\n",
              "    <tr>\n",
              "      <th>2</th>\n",
              "      <td>74</td>\n",
              "      <td>10</td>\n",
              "      <td>9.8</td>\n",
              "      <td>8.1</td>\n",
              "      <td>17</td>\n",
              "      <td>1.227620</td>\n",
              "      <td>0</td>\n",
              "      <td>3</td>\n",
              "      <td>2</td>\n",
              "      <td>1</td>\n",
              "      <td>3</td>\n",
              "      <td>1</td>\n",
              "      <td>0</td>\n",
              "      <td>0</td>\n",
              "    </tr>\n",
              "    <tr>\n",
              "      <th>3</th>\n",
              "      <td>65</td>\n",
              "      <td>5</td>\n",
              "      <td>12.5</td>\n",
              "      <td>7.7</td>\n",
              "      <td>19</td>\n",
              "      <td>1.015164</td>\n",
              "      <td>0</td>\n",
              "      <td>3</td>\n",
              "      <td>2</td>\n",
              "      <td>1</td>\n",
              "      <td>2</td>\n",
              "      <td>1</td>\n",
              "      <td>0</td>\n",
              "      <td>0</td>\n",
              "    </tr>\n",
              "    <tr>\n",
              "      <th>4</th>\n",
              "      <td>75</td>\n",
              "      <td>25</td>\n",
              "      <td>10.3</td>\n",
              "      <td>4.5</td>\n",
              "      <td>15</td>\n",
              "      <td>3.119532</td>\n",
              "      <td>0</td>\n",
              "      <td>2</td>\n",
              "      <td>2</td>\n",
              "      <td>2</td>\n",
              "      <td>2</td>\n",
              "      <td>0</td>\n",
              "      <td>0</td>\n",
              "      <td>0</td>\n",
              "    </tr>\n",
              "    <tr>\n",
              "      <th>...</th>\n",
              "      <td>...</td>\n",
              "      <td>...</td>\n",
              "      <td>...</td>\n",
              "      <td>...</td>\n",
              "      <td>...</td>\n",
              "      <td>...</td>\n",
              "      <td>...</td>\n",
              "      <td>...</td>\n",
              "      <td>...</td>\n",
              "      <td>...</td>\n",
              "      <td>...</td>\n",
              "      <td>...</td>\n",
              "      <td>...</td>\n",
              "      <td>...</td>\n",
              "    </tr>\n",
              "    <tr>\n",
              "      <th>151</th>\n",
              "      <td>79</td>\n",
              "      <td>4</td>\n",
              "      <td>10.8</td>\n",
              "      <td>9.1</td>\n",
              "      <td>10</td>\n",
              "      <td>2.764500</td>\n",
              "      <td>1</td>\n",
              "      <td>2</td>\n",
              "      <td>2</td>\n",
              "      <td>1</td>\n",
              "      <td>3</td>\n",
              "      <td>1</td>\n",
              "      <td>0</td>\n",
              "      <td>0</td>\n",
              "    </tr>\n",
              "    <tr>\n",
              "      <th>152</th>\n",
              "      <td>63</td>\n",
              "      <td>14</td>\n",
              "      <td>10.3</td>\n",
              "      <td>8.1</td>\n",
              "      <td>16</td>\n",
              "      <td>1.896210</td>\n",
              "      <td>1</td>\n",
              "      <td>3</td>\n",
              "      <td>2</td>\n",
              "      <td>3</td>\n",
              "      <td>2</td>\n",
              "      <td>1</td>\n",
              "      <td>0</td>\n",
              "      <td>0</td>\n",
              "    </tr>\n",
              "    <tr>\n",
              "      <th>153</th>\n",
              "      <td>41</td>\n",
              "      <td>17</td>\n",
              "      <td>8.3</td>\n",
              "      <td>8.0</td>\n",
              "      <td>26</td>\n",
              "      <td>2.222061</td>\n",
              "      <td>1</td>\n",
              "      <td>2</td>\n",
              "      <td>2</td>\n",
              "      <td>3</td>\n",
              "      <td>1</td>\n",
              "      <td>0</td>\n",
              "      <td>1</td>\n",
              "      <td>0</td>\n",
              "    </tr>\n",
              "    <tr>\n",
              "      <th>154</th>\n",
              "      <td>74</td>\n",
              "      <td>21</td>\n",
              "      <td>9.9</td>\n",
              "      <td>5.0</td>\n",
              "      <td>12</td>\n",
              "      <td>0.596117</td>\n",
              "      <td>1</td>\n",
              "      <td>2</td>\n",
              "      <td>2</td>\n",
              "      <td>2</td>\n",
              "      <td>2</td>\n",
              "      <td>0</td>\n",
              "      <td>1</td>\n",
              "      <td>0</td>\n",
              "    </tr>\n",
              "    <tr>\n",
              "      <th>155</th>\n",
              "      <td>63</td>\n",
              "      <td>21</td>\n",
              "      <td>11.5</td>\n",
              "      <td>10.0</td>\n",
              "      <td>39</td>\n",
              "      <td>1.021259</td>\n",
              "      <td>0</td>\n",
              "      <td>3</td>\n",
              "      <td>2</td>\n",
              "      <td>1</td>\n",
              "      <td>3</td>\n",
              "      <td>0</td>\n",
              "      <td>1</td>\n",
              "      <td>0</td>\n",
              "    </tr>\n",
              "  </tbody>\n",
              "</table>\n",
              "<p>156 rows × 14 columns</p>\n",
              "</div>\n",
              "      <button class=\"colab-df-convert\" onclick=\"convertToInteractive('df-fee932bb-874a-4a93-b8b0-24af4af89831')\"\n",
              "              title=\"Convert this dataframe to an interactive table.\"\n",
              "              style=\"display:none;\">\n",
              "        \n",
              "  <svg xmlns=\"http://www.w3.org/2000/svg\" height=\"24px\"viewBox=\"0 0 24 24\"\n",
              "       width=\"24px\">\n",
              "    <path d=\"M0 0h24v24H0V0z\" fill=\"none\"/>\n",
              "    <path d=\"M18.56 5.44l.94 2.06.94-2.06 2.06-.94-2.06-.94-.94-2.06-.94 2.06-2.06.94zm-11 1L8.5 8.5l.94-2.06 2.06-.94-2.06-.94L8.5 2.5l-.94 2.06-2.06.94zm10 10l.94 2.06.94-2.06 2.06-.94-2.06-.94-.94-2.06-.94 2.06-2.06.94z\"/><path d=\"M17.41 7.96l-1.37-1.37c-.4-.4-.92-.59-1.43-.59-.52 0-1.04.2-1.43.59L10.3 9.45l-7.72 7.72c-.78.78-.78 2.05 0 2.83L4 21.41c.39.39.9.59 1.41.59.51 0 1.02-.2 1.41-.59l7.78-7.78 2.81-2.81c.8-.78.8-2.07 0-2.86zM5.41 20L4 18.59l7.72-7.72 1.47 1.35L5.41 20z\"/>\n",
              "  </svg>\n",
              "      </button>\n",
              "      \n",
              "  <style>\n",
              "    .colab-df-container {\n",
              "      display:flex;\n",
              "      flex-wrap:wrap;\n",
              "      gap: 12px;\n",
              "    }\n",
              "\n",
              "    .colab-df-convert {\n",
              "      background-color: #E8F0FE;\n",
              "      border: none;\n",
              "      border-radius: 50%;\n",
              "      cursor: pointer;\n",
              "      display: none;\n",
              "      fill: #1967D2;\n",
              "      height: 32px;\n",
              "      padding: 0 0 0 0;\n",
              "      width: 32px;\n",
              "    }\n",
              "\n",
              "    .colab-df-convert:hover {\n",
              "      background-color: #E2EBFA;\n",
              "      box-shadow: 0px 1px 2px rgba(60, 64, 67, 0.3), 0px 1px 3px 1px rgba(60, 64, 67, 0.15);\n",
              "      fill: #174EA6;\n",
              "    }\n",
              "\n",
              "    [theme=dark] .colab-df-convert {\n",
              "      background-color: #3B4455;\n",
              "      fill: #D2E3FC;\n",
              "    }\n",
              "\n",
              "    [theme=dark] .colab-df-convert:hover {\n",
              "      background-color: #434B5C;\n",
              "      box-shadow: 0px 1px 3px 1px rgba(0, 0, 0, 0.15);\n",
              "      filter: drop-shadow(0px 1px 2px rgba(0, 0, 0, 0.3));\n",
              "      fill: #FFFFFF;\n",
              "    }\n",
              "  </style>\n",
              "\n",
              "      <script>\n",
              "        const buttonEl =\n",
              "          document.querySelector('#df-fee932bb-874a-4a93-b8b0-24af4af89831 button.colab-df-convert');\n",
              "        buttonEl.style.display =\n",
              "          google.colab.kernel.accessAllowed ? 'block' : 'none';\n",
              "\n",
              "        async function convertToInteractive(key) {\n",
              "          const element = document.querySelector('#df-fee932bb-874a-4a93-b8b0-24af4af89831');\n",
              "          const dataTable =\n",
              "            await google.colab.kernel.invokeFunction('convertToInteractive',\n",
              "                                                     [key], {});\n",
              "          if (!dataTable) return;\n",
              "\n",
              "          const docLinkHtml = 'Like what you see? Visit the ' +\n",
              "            '<a target=\"_blank\" href=https://colab.research.google.com/notebooks/data_table.ipynb>data table notebook</a>'\n",
              "            + ' to learn more about interactive tables.';\n",
              "          element.innerHTML = '';\n",
              "          dataTable['output_type'] = 'display_data';\n",
              "          await google.colab.output.renderOutput(dataTable, element);\n",
              "          const docLink = document.createElement('div');\n",
              "          docLink.innerHTML = docLinkHtml;\n",
              "          element.appendChild(docLink);\n",
              "        }\n",
              "      </script>\n",
              "    </div>\n",
              "  </div>\n",
              "  "
            ]
          },
          "metadata": {},
          "execution_count": 249
        }
      ]
    },
    {
      "cell_type": "code",
      "source": [
        "df_test = df.iloc[:78,:]\n",
        "df_train = df.iloc[78:,:]"
      ],
      "metadata": {
        "id": "r_plxuplnEHv"
      },
      "execution_count": 255,
      "outputs": []
    },
    {
      "cell_type": "code",
      "source": [
        "df_test_y_1 = df_test['target_1']\n",
        "df_test_1 = df_test.drop(['target_3', 'target_2', 'target_1', 'RS'], axis=1)\n",
        "df_train_y_1 = df_train['target_1']\n",
        "df_train_1 = df_train.drop(['target_3', 'target_2', 'target_1', 'RS'], axis=1)\n",
        "\n",
        "df_test_y_2 = df_test['target_2']\n",
        "df_test_2 = df_test.drop(['target_3', 'target_2', 'target_1', 'RS'], axis=1)\n",
        "df_train_y_2 = df_train['target_2']\n",
        "df_train_2 = df_train.drop(['target_3', 'target_2', 'target_1', 'RS'], axis=1)\n",
        "\n",
        "df_test_y_3 = df_test['target_3']\n",
        "df_test_3 = df_test.drop(['target_3', 'target_2', 'target_1', 'RS'], axis=1)\n",
        "df_train_y_3 = df_train['target_3']\n",
        "df_train_3 = df_train.drop(['target_3', 'target_2', 'target_1', 'RS'], axis=1)"
      ],
      "metadata": {
        "id": "TxB-3lykpAaN"
      },
      "execution_count": 294,
      "outputs": []
    },
    {
      "cell_type": "markdown",
      "source": [
        "# Model and Training"
      ],
      "metadata": {
        "id": "GEbZN9B0BEVp"
      }
    },
    {
      "cell_type": "code",
      "execution_count": 267,
      "metadata": {
        "id": "GrVPbirwXmwJ"
      },
      "outputs": [],
      "source": [
        "t = 0\n",
        "l = 0\n",
        "ConvCond = False\n",
        "Max_n = 128\n",
        "Max_HL = 16"
      ]
    },
    {
      "cell_type": "code",
      "source": [
        "def constructNN(Max_n, Max_HL, ConvCond, l, t, test_X, train_X, test_y, train_y):\n",
        "    Acc_history = []\n",
        "    PPV_history = []\n",
        "    TPR_history = []\n",
        "\n",
        "    omega_range = [0.1, 0.2, 0.3, 0.4, 0.5, 0.7, 0.8, 0.9]\n",
        "\n",
        "    for omega in omega_range:\n",
        "      model = tf.keras.models.Sequential()\n",
        "      while (ConvCond == False):\n",
        "          model.add(tf.keras.layers.Dense(1, kernel_initializer = 'glorot_normal', bias_initializer = 'glorot_normal', activation='sigmoid'))\n",
        "          n_l = 1\n",
        "    \n",
        "          if (n_l <= Max_n and ConvCond == False):\n",
        "              model = tf.keras.models.Sequential(model.layers[:-1])\n",
        "              model.add(tf.keras.layers.Dense(n_l + 1, kernel_initializer = 'glorot_normal', bias_initializer = 'glorot_normal', activation='sigmoid'))\n",
        "    \n",
        "          if (l <= Max_HL and ConvCond == False):\n",
        "              model.add(tf.keras.layers.Dense(1, kernel_initializer = 'glorot_normal', bias_initializer = 'glorot_normal', activation='sigmoid'))\n",
        "\n",
        "          if (l > Max_HL and ConvCond == False):\n",
        "              return 0, 0, 0, 0\n",
        "\n",
        "          model_res = model\n",
        "          model_res.compile(optimizer=tf.keras.optimizers.Adam(learning_rate=1e-3),\n",
        "              loss=tf.keras.losses.BinaryCrossentropy(), metrics=['accuracy'])\n",
        "          model_res.fit(test_X, test_y)\n",
        "          model = tf.keras.models.Sequential(model.layers[:-1])\n",
        "          model.add(model_res.layers[-1])\n",
        "          pred_y = model_res.predict(train_X)\n",
        "          Acc, PPV, TPR, ConvCond = convergenceChange(np.array(train_y), np.array(pred_y), omega)\n",
        "          Acc_history.append(Acc)\n",
        "          PPV_history.append(PPV)\n",
        "          TPR_history.append(TPR)\n",
        "          l += 1\n",
        "          n_l += 1\n",
        "          t += 1\n",
        "    return Acc_history, PPV_history, TPR_history"
      ],
      "metadata": {
        "id": "Ep11ZyxOnZoO"
      },
      "execution_count": 351,
      "outputs": []
    },
    {
      "cell_type": "code",
      "source": [
        "Acc_1, PPV_1, TPR_1 = constructNN(Max_n, Max_HL, ConvCond, l, t, df_test_1.to_numpy(), df_train_1.to_numpy(), df_test_y_1.to_numpy(), df_train_y_1.to_numpy())"
      ],
      "metadata": {
        "colab": {
          "base_uri": "https://localhost:8080/",
          "height": 755
        },
        "id": "6x4XuOB5KL4g",
        "outputId": "25c86f67-559c-4b58-f18f-d434b9582ace"
      },
      "execution_count": 352,
      "outputs": [
        {
          "output_type": "stream",
          "name": "stdout",
          "text": [
            "3/3 [==============================] - 1s 6ms/step - loss: 0.7164 - accuracy: 0.4359\n",
            "3/3 [==============================] - 0s 5ms/step\n",
            "3/3 [==============================] - 1s 5ms/step - loss: 0.6836 - accuracy: 0.6154\n",
            "3/3 [==============================] - 0s 4ms/step\n",
            "3/3 [==============================] - 1s 5ms/step - loss: 1.1607 - accuracy: 0.3846\n",
            "3/3 [==============================] - 0s 4ms/step\n",
            "3/3 [==============================] - 1s 6ms/step - loss: 0.6738 - accuracy: 0.6154\n",
            "3/3 [==============================] - 0s 4ms/step\n",
            "3/3 [==============================] - 1s 5ms/step - loss: 1.0956 - accuracy: 0.3846\n",
            "3/3 [==============================] - 0s 4ms/step\n",
            "3/3 [==============================] - 1s 5ms/step - loss: 0.7365 - accuracy: 0.6154\n",
            "3/3 [==============================] - 0s 4ms/step\n",
            "3/3 [==============================] - 1s 5ms/step - loss: 0.6665 - accuracy: 0.6154\n",
            "3/3 [==============================] - 0s 4ms/step\n",
            "3/3 [==============================] - 1s 5ms/step - loss: 0.6680 - accuracy: 0.6154\n",
            "3/3 [==============================] - 0s 4ms/step\n",
            "3/3 [==============================] - 2s 5ms/step - loss: 0.6768 - accuracy: 0.6154\n",
            "3/3 [==============================] - 0s 4ms/step\n",
            "3/3 [==============================] - 1s 6ms/step - loss: 1.2745 - accuracy: 0.3846\n",
            "3/3 [==============================] - 0s 4ms/step\n",
            "3/3 [==============================] - 1s 6ms/step - loss: 0.8075 - accuracy: 0.3846\n",
            "3/3 [==============================] - 0s 5ms/step\n",
            "3/3 [==============================] - 1s 5ms/step - loss: 1.1712 - accuracy: 0.3846\n",
            "3/3 [==============================] - 0s 5ms/step\n",
            "3/3 [==============================] - 1s 5ms/step - loss: 1.1346 - accuracy: 0.3846\n",
            "3/3 [==============================] - 0s 4ms/step\n",
            "3/3 [==============================] - 2s 6ms/step - loss: 0.7582 - accuracy: 0.3846\n",
            "3/3 [==============================] - 0s 4ms/step\n",
            "3/3 [==============================] - 2s 5ms/step - loss: 0.6949 - accuracy: 0.3846\n",
            "3/3 [==============================] - 0s 4ms/step\n",
            "3/3 [==============================] - 2s 6ms/step - loss: 0.6689 - accuracy: 0.6154\n",
            "3/3 [==============================] - 0s 4ms/step\n",
            "3/3 [==============================] - 2s 6ms/step - loss: 0.9817 - accuracy: 0.3846\n",
            "3/3 [==============================] - 0s 4ms/step\n"
          ]
        },
        {
          "output_type": "error",
          "ename": "ValueError",
          "evalue": "ignored",
          "traceback": [
            "\u001b[0;31m---------------------------------------------------------------------------\u001b[0m",
            "\u001b[0;31mValueError\u001b[0m                                Traceback (most recent call last)",
            "\u001b[0;32m<ipython-input-352-a40046e9c8e3>\u001b[0m in \u001b[0;36m<module>\u001b[0;34m\u001b[0m\n\u001b[0;32m----> 1\u001b[0;31m \u001b[0mAcc_1\u001b[0m\u001b[0;34m,\u001b[0m \u001b[0mPPV_1\u001b[0m\u001b[0;34m,\u001b[0m \u001b[0mTPR_1\u001b[0m \u001b[0;34m=\u001b[0m \u001b[0mconstructNN\u001b[0m\u001b[0;34m(\u001b[0m\u001b[0mMax_n\u001b[0m\u001b[0;34m,\u001b[0m \u001b[0mMax_HL\u001b[0m\u001b[0;34m,\u001b[0m \u001b[0mConvCond\u001b[0m\u001b[0;34m,\u001b[0m \u001b[0ml\u001b[0m\u001b[0;34m,\u001b[0m \u001b[0mt\u001b[0m\u001b[0;34m,\u001b[0m \u001b[0mdf_test_1\u001b[0m\u001b[0;34m.\u001b[0m\u001b[0mto_numpy\u001b[0m\u001b[0;34m(\u001b[0m\u001b[0;34m)\u001b[0m\u001b[0;34m,\u001b[0m \u001b[0mdf_train_1\u001b[0m\u001b[0;34m.\u001b[0m\u001b[0mto_numpy\u001b[0m\u001b[0;34m(\u001b[0m\u001b[0;34m)\u001b[0m\u001b[0;34m,\u001b[0m \u001b[0mdf_test_y_1\u001b[0m\u001b[0;34m.\u001b[0m\u001b[0mto_numpy\u001b[0m\u001b[0;34m(\u001b[0m\u001b[0;34m)\u001b[0m\u001b[0;34m,\u001b[0m \u001b[0mdf_train_y_1\u001b[0m\u001b[0;34m.\u001b[0m\u001b[0mto_numpy\u001b[0m\u001b[0;34m(\u001b[0m\u001b[0;34m)\u001b[0m\u001b[0;34m)\u001b[0m\u001b[0;34m\u001b[0m\u001b[0;34m\u001b[0m\u001b[0m\n\u001b[0m",
            "\u001b[0;31mValueError\u001b[0m: too many values to unpack (expected 3)"
          ]
        }
      ]
    },
    {
      "cell_type": "code",
      "source": [],
      "metadata": {
        "id": "xFyCvVB33g-f"
      },
      "execution_count": null,
      "outputs": []
    }
  ]
}